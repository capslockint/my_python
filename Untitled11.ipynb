{
  "nbformat": 4,
  "nbformat_minor": 0,
  "metadata": {
    "colab": {
      "provenance": [],
      "authorship_tag": "ABX9TyMzPwNBCR5dSrtWe5/8BXH/",
      "include_colab_link": true
    },
    "kernelspec": {
      "name": "python3",
      "display_name": "Python 3"
    },
    "language_info": {
      "name": "python"
    }
  },
  "cells": [
    {
      "cell_type": "markdown",
      "metadata": {
        "id": "view-in-github",
        "colab_type": "text"
      },
      "source": [
        "<a href=\"https://colab.research.google.com/github/capslockint/my_python/blob/main/Untitled11.ipynb\" target=\"_parent\"><img src=\"https://colab.research.google.com/assets/colab-badge.svg\" alt=\"Open In Colab\"/></a>"
      ]
    },
    {
      "cell_type": "code",
      "execution_count": 8,
      "metadata": {
        "colab": {
          "base_uri": "https://localhost:8080/"
        },
        "id": "xomJbFG_o9Sx",
        "outputId": "6c5cb733-475b-4fb6-8139-cfe7deef9c46"
      },
      "outputs": [
        {
          "output_type": "stream",
          "name": "stdout",
          "text": [
            "Select operation.\n",
            "1. Add\n",
            "2. Subtract\n",
            "3. Multiply\n",
            "4. Divide\n",
            "Enter operation(1/2/3/4) : 1\n",
            "enter first number  :3\n",
            "enter second number :3\n",
            "6\n"
          ]
        }
      ],
      "source": [
        "print(\"Select operation.\")\n",
        "print(\"1. Add\")\n",
        "print(\"2. Subtract\")\n",
        "print(\"3. Multiply\")\n",
        "print(\"4. Divide\")\n",
        "operation = (input(\"Enter operation(1/2/3/4) : \"))\n",
        "match operation:\n",
        " case '1':\n",
        "  a = int(input(\"enter first number  :\"))\n",
        "  b = int(input(\"enter second number :\"))\n",
        "  print(a + b)\n",
        " case '2':\n",
        "  a = int(input(\"enter first number  :\"))\n",
        "  b = int(input(\"enter second number :\"))\n",
        "  print(a - b)\n",
        " case '3':\n",
        "  a = int(input(\"enter first number  :\"))\n",
        "  b = int(input(\"enter second number :\"))\n",
        "  print(a * b)\n",
        " case '4':\n",
        "  a = int(input(\"enter first number  :\"))\n",
        "  b = int(input(\"enter second number :\"))\n",
        "  print(a * b)\n",
        "\n",
        "\n"
      ]
    },
    {
      "cell_type": "code",
      "source": [],
      "metadata": {
        "id": "lkZ2iFdZsfzS"
      },
      "execution_count": null,
      "outputs": []
    }
  ]
}