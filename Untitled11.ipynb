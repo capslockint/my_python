{
  "nbformat": 4,
  "nbformat_minor": 0,
  "metadata": {
    "colab": {
      "provenance": [],
      "authorship_tag": "ABX9TyOSRbARM4WCmJNGagbDjAy6",
      "include_colab_link": true
    },
    "kernelspec": {
      "name": "python3",
      "display_name": "Python 3"
    },
    "language_info": {
      "name": "python"
    }
  },
  "cells": [
    {
      "cell_type": "markdown",
      "metadata": {
        "id": "view-in-github",
        "colab_type": "text"
      },
      "source": [
        "<a href=\"https://colab.research.google.com/github/capslockint/my_python/blob/main/Untitled11.ipynb\" target=\"_parent\"><img src=\"https://colab.research.google.com/assets/colab-badge.svg\" alt=\"Open In Colab\"/></a>"
      ]
    },
    {
      "cell_type": "code",
      "execution_count": 6,
      "metadata": {
        "colab": {
          "base_uri": "https://localhost:8080/"
        },
        "id": "xomJbFG_o9Sx",
        "outputId": "3fc029db-ad72-473d-dd6b-a72905da99ed"
      },
      "outputs": [
        {
          "output_type": "stream",
          "name": "stdout",
          "text": [
            "Select operation.\n",
            "1. Add\n",
            "2. Subtract\n",
            "3. Multiply\n",
            "4. Divide\n",
            "5. To exit\n",
            "Enter operation(1/2/3/4/5) : 3\n",
            "enter first number  :3\n",
            "enter second number :4\n",
            "the result is : 12\n",
            "Select operation.\n",
            "1. Add\n",
            "2. Subtract\n",
            "3. Multiply\n",
            "4. Divide\n",
            "5. To exit\n",
            "Enter operation(1/2/3/4/5) : 5\n",
            "successfull exit\n"
          ]
        }
      ],
      "source": [
        "while True:\n",
        "  print(\"Select operation.\")\n",
        "  print(\"1. Add\")\n",
        "  print(\"2. Subtract\")\n",
        "  print(\"3. Multiply\")\n",
        "  print(\"4. Divide\")\n",
        "  print(\"5. To exit\")\n",
        "  operation = (input(\"Enter operation(1/2/3/4/5) : \"))\n",
        "  match operation:\n",
        "    case '1':\n",
        "      a = int(input(\"enter first number  :\"))\n",
        "      b = int(input(\"enter second number :\"))\n",
        "      print(\"the result is :\", a + b)\n",
        "    case '2':\n",
        "      a = int(input(\"enter first number  :\"))\n",
        "      b = int(input(\"enter second number :\"))\n",
        "      print(\"the result is :\", a - b)\n",
        "    case '3':\n",
        "      a = int(input(\"enter first number  :\"))\n",
        "      b = int(input(\"enter second number :\"))\n",
        "      print(\"the result is :\", a * b)\n",
        "    case '4':\n",
        "      a = int(input(\"enter first number  :\"))\n",
        "      b = int(input(\"enter second number :\"))\n",
        "      print(\"the result is :\", a / b)\n",
        "    case '5':\n",
        "      print(\"successfull exit\")\n",
        "      break"
      ]
    },
    {
      "cell_type": "code",
      "source": [],
      "metadata": {
        "id": "lkZ2iFdZsfzS"
      },
      "execution_count": null,
      "outputs": []
    }
  ]
}