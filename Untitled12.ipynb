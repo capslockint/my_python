{
  "nbformat": 4,
  "nbformat_minor": 0,
  "metadata": {
    "colab": {
      "provenance": [],
      "authorship_tag": "ABX9TyPSzr4Qvz4BbkL5MG3Uw1P6"
    },
    "kernelspec": {
      "name": "python3",
      "display_name": "Python 3"
    },
    "language_info": {
      "name": "python"
    }
  },
  "cells": [
    {
      "cell_type": "code",
      "execution_count": null,
      "metadata": {
        "colab": {
          "base_uri": "https://localhost:8080/"
        },
        "id": "ZqPO-fBs5AFy",
        "outputId": "90b8aaad-ce68-4923-c11b-2dc59a9103cb"
      },
      "outputs": [
        {
          "output_type": "stream",
          "name": "stdout",
          "text": [
            "Select operation.\n",
            "1. update/name\n",
            "2. update/task\n",
            "3. update/time\n",
            "4. Add/key\n",
            "5. delet\n",
            "6. update any key\n",
            "7. show list\n",
            "8. To exit\n"
          ]
        }
      ],
      "source": [
        "while True:\n",
        "  tododic = {\n",
        "    \"name\": \"HAMZA\",\n",
        "    \"task\": \"I WANT TO COMPLET MY PYTHON PROJECT\",\n",
        "    \"time\": \"I WANT TO COMPLET MY TASK TILL 1 AM\",\n",
        "            }\n",
        "  print(\"Select operation.\")\n",
        "  print(\"1. update/name\")\n",
        "  print(\"2. update/task\")\n",
        "  print(\"3. update/time\")\n",
        "  print(\"4. Add/key\")\n",
        "  print(\"5. delet\")\n",
        "  print(\"6. update any key\")\n",
        "  print(\"7. show list\")\n",
        "  print(\"8. To exit\")\n",
        "  operation = (input(\"Enter operation(1/2/3/4/5/6/7/8) : \"))\n",
        "  match operation:\n",
        "    case '1':\n",
        "      x= input(\"enter the name you want ot change :\")\n",
        "      tododic[\"name\"]= x\n",
        "      print(tododic)\n",
        "    case '2':\n",
        "      y= input(\"enter the task you want ot change :\")\n",
        "      tododic[\"task\"]= y\n",
        "      print(tododic)\n",
        "    case '3':\n",
        "      k= input(\"enter the TIME you want ot change :\")\n",
        "      tododic[\"time\"]= k\n",
        "      print(tododic)\n",
        "    case '4':\n",
        "      a= input(\"enter the name of key you want to add :\")\n",
        "      b= input(\"enter the detail you want to add :\")\n",
        "      tododic[a]= b\n",
        "      print(tododic)\n",
        "    case '5':\n",
        "      n = input(\"enter the key you want to delet :\")\n",
        "      del tododic[n]\n",
        "      print(tododic)\n",
        "    case '6':\n",
        "      z= input(\"enter the key you want to update :\")\n",
        "      h= input(\"enter the detail you want to change :\")\n",
        "      tododic[z] = h\n",
        "      print(tododic)\n",
        "    case '7':\n",
        "      o= tododic.items()\n",
        "      print(o)\n",
        "    case '8':\n",
        "      print(\"successfull exit\")\n",
        "      break\n",
        "\n",
        "\n"
      ]
    },
    {
      "cell_type": "code",
      "source": [],
      "metadata": {
        "id": "48r1Ro2h6w6A"
      },
      "execution_count": null,
      "outputs": []
    }
  ]
}